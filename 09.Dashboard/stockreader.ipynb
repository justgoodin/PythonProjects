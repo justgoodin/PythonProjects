{
 "cells": [
  {
   "cell_type": "code",
   "execution_count": 117,
   "metadata": {},
   "outputs": [],
   "source": [
    "from pandas_datareader import data\n",
    "import datetime\n",
    "from bokeh.plotting import figure, show, output_file\n",
    "from bokeh.embed import components\n",
    "from bokeh.resources import CDN"
   ]
  },
  {
   "cell_type": "code",
   "execution_count": 118,
   "metadata": {},
   "outputs": [],
   "source": [
    "start = datetime.datetime(2018,3,1)\n",
    "end= datetime.datetime(2018,3,10)\n",
    "#tcs = data.DataReader(name=\"BSE:TCS\",data_source=\"av-daily\",start=start,end=end,api_key=\"BLL2NISI8SIJF8FJ\")\n",
    "#aapl = data.DataReader(\"AAPL\",\"iex\",start,end,api_key=\"sk_056ed0f0f23f40b59a837145c6b6ee7d\")\n",
    "tcs = data.DataReader(name=\"TCS.BO\",data_source=\"yahoo\",start=start,end=end,api_key=\"BLL2NISI8SIJF8FJ\")\n"
   ]
  },
  {
   "cell_type": "code",
   "execution_count": 119,
   "metadata": {},
   "outputs": [],
   "source": [
    "def inc_dec(c,o):\n",
    "    if c>o:\n",
    "        value=\"Increase\"\n",
    "    elif c<o:\n",
    "        value=\"Decrease\"\n",
    "    else:\n",
    "        value=\"Equal\"\n",
    "    return value\n",
    "        \n",
    "tcs[\"Status\"] = [inc_dec(c,o) for c,o in zip(tcs.Close,tcs.Open)]"
   ]
  },
  {
   "cell_type": "code",
   "execution_count": 120,
   "metadata": {},
   "outputs": [],
   "source": [
    "tcs[\"Middle\"]=(tcs.Open+tcs.Close)/2\n",
    "tcs[\"Height\"]=abs(tcs.Close-tcs.Open)/2"
   ]
  },
  {
   "cell_type": "code",
   "execution_count": 121,
   "metadata": {},
   "outputs": [],
   "source": [
    "p=figure(x_axis_type='datetime',width=1000,height=300)\n",
    "p.title.text=\"Candlestick Chart\"\n",
    "p.grid.grid_line_alpha=0.3"
   ]
  },
  {
   "cell_type": "code",
   "execution_count": 124,
   "metadata": {},
   "outputs": [],
   "source": [
    "p.rect(tcs.index[tcs.Status==\"Increase\"],tcs.Middle[tcs.Status==\"Increase\"],12*60*60*1000,tcs.Height[tcs.Status==\"Increase\"],fill_color=\"green\",line_color=\"black\")\n",
    "p.rect(tcs.index[tcs.Status==\"Decrease\"],tcs.Middle[tcs.Status==\"Decrease\"],12*60*60*1000,tcs.Height[tcs.Status==\"Decrease\"],fill_color=\"red\",line_color=\"black\")\n",
    "#output_file(\"cs.html\")\n",
    "#show(p)\n",
    "script1, div1 = components(p)\n",
    "cdn_js=CDN.js_files\n",
    "cdn_css=CDN.css_files"
   ]
  },
  {
   "cell_type": "code",
   "execution_count": 123,
   "metadata": {
    "scrolled": true
   },
   "outputs": [
    {
     "data": {
      "text/plain": [
       "[]"
      ]
     },
     "execution_count": 123,
     "metadata": {},
     "output_type": "execute_result"
    }
   ],
   "source": [
    "cdn_css"
   ]
  },
  {
   "cell_type": "code",
   "execution_count": null,
   "metadata": {},
   "outputs": [],
   "source": []
  }
 ],
 "metadata": {
  "kernelspec": {
   "display_name": "Python 3",
   "language": "python",
   "name": "python3"
  },
  "language_info": {
   "codemirror_mode": {
    "name": "ipython",
    "version": 3
   },
   "file_extension": ".py",
   "mimetype": "text/x-python",
   "name": "python",
   "nbconvert_exporter": "python",
   "pygments_lexer": "ipython3",
   "version": "3.8.5"
  }
 },
 "nbformat": 4,
 "nbformat_minor": 4
}
