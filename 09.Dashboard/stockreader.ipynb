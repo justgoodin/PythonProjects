{
 "cells": [
  {
   "cell_type": "code",
   "execution_count": 55,
   "metadata": {},
   "outputs": [],
   "source": [
    "from pandas_datareader import data\n",
    "import datetime\n",
    "from bokeh.plotting import figure, show, output_file"
   ]
  },
  {
   "cell_type": "code",
   "execution_count": 56,
   "metadata": {},
   "outputs": [],
   "source": [
    "start = datetime.datetime(2018,3,1)\n",
    "end= datetime.datetime(2018,3,10)\n",
    "#tcs = data.DataReader(name=\"BSE:TCS\",data_source=\"av-daily\",start=start,end=end,api_key=\"BLL2NISI8SIJF8FJ\")\n",
    "#aapl = data.DataReader(\"AAPL\",\"iex\",start,end,api_key=\"sk_056ed0f0f23f40b59a837145c6b6ee7d\")\n",
    "tcs = data.DataReader(name=\"TCS.BO\",data_source=\"yahoo\",start=start,end=end,api_key=\"BLL2NISI8SIJF8FJ\")\n"
   ]
  },
  {
   "cell_type": "code",
   "execution_count": 74,
   "metadata": {},
   "outputs": [],
   "source": []
  },
  {
   "cell_type": "code",
   "execution_count": 75,
   "metadata": {},
   "outputs": [],
   "source": [
    "p=figure(x_axis_type='datetime',width=1000,height=300)\n",
    "p.title.text=\"Candlestick Chart\""
   ]
  },
  {
   "cell_type": "code",
   "execution_count": 77,
   "metadata": {},
   "outputs": [
    {
     "name": "stderr",
     "output_type": "stream",
     "text": [
      "BokehUserWarning: ColumnDataSource's columns must be of the same length. Current lengths: ('x', 4), ('y', 6)\n",
      "BokehUserWarning: ColumnDataSource's columns must be of the same length. Current lengths: ('height', 6), ('x', 4), ('y', 6)\n",
      "BokehUserWarning: ColumnDataSource's columns must be of the same length. Current lengths: ('x', 2), ('y', 6)\n",
      "BokehUserWarning: ColumnDataSource's columns must be of the same length. Current lengths: ('height', 6), ('x', 2), ('y', 6)\n"
     ]
    }
   ],
   "source": [
    "p.rect(date_increase,(tcs.Open+tcs.Close)/2,12*60*60*1000,abs(tcs.Open-tcs.Close),fill_color=\"green\",line_color=\"black\")\n",
    "p.rect(date_decrease,(tcs.Open+tcs.Close)/2,12*60*60*1000,abs(tcs.Open-tcs.Close),fill_color=\"red\",line_color=\"black\")\n",
    "output_file(\"cs.html\")\n",
    "show(p)"
   ]
  },
  {
   "cell_type": "code",
   "execution_count": null,
   "metadata": {},
   "outputs": [],
   "source": []
  }
 ],
 "metadata": {
  "kernelspec": {
   "display_name": "Python 3",
   "language": "python",
   "name": "python3"
  },
  "language_info": {
   "codemirror_mode": {
    "name": "ipython",
    "version": 3
   },
   "file_extension": ".py",
   "mimetype": "text/x-python",
   "name": "python",
   "nbconvert_exporter": "python",
   "pygments_lexer": "ipython3",
   "version": "3.8.5"
  }
 },
 "nbformat": 4,
 "nbformat_minor": 4
}
